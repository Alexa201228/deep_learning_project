{
 "cells": [
  {
   "cell_type": "code",
   "execution_count": 9,
   "metadata": {
    "colab": {
     "base_uri": "https://localhost:8080/"
    },
    "id": "hAXzJqSSG0sS",
    "outputId": "a43078e8-1251-48fa-d0c4-cd18d68e5f13",
    "ExecuteTime": {
     "end_time": "2023-10-02T14:28:26.556533Z",
     "start_time": "2023-10-02T14:28:25.298148Z"
    }
   },
   "outputs": [
    {
     "name": "stdout",
     "output_type": "stream",
     "text": [
      "Requirement already satisfied: loguru in /Users/alexandragridneva/ProgrammingTools/miniconda3/envs/deep_learning_project_v2/lib/python3.9/site-packages (0.5.3)\r\n",
      "Requirement already satisfied: beautifulsoup4 in /Users/alexandragridneva/ProgrammingTools/miniconda3/envs/deep_learning_project_v2/lib/python3.9/site-packages (4.12.2)\r\n",
      "Requirement already satisfied: pandas in /Users/alexandragridneva/ProgrammingTools/miniconda3/envs/deep_learning_project_v2/lib/python3.9/site-packages (2.0.3)\r\n",
      "Requirement already satisfied: httpx in /Users/alexandragridneva/ProgrammingTools/miniconda3/envs/deep_learning_project_v2/lib/python3.9/site-packages (0.23.0)\r\n",
      "Requirement already satisfied: soupsieve>1.2 in /Users/alexandragridneva/ProgrammingTools/miniconda3/envs/deep_learning_project_v2/lib/python3.9/site-packages (from beautifulsoup4) (2.4)\r\n",
      "Requirement already satisfied: python-dateutil>=2.8.2 in /Users/alexandragridneva/ProgrammingTools/miniconda3/envs/deep_learning_project_v2/lib/python3.9/site-packages (from pandas) (2.8.2)\r\n",
      "Requirement already satisfied: pytz>=2020.1 in /Users/alexandragridneva/ProgrammingTools/miniconda3/envs/deep_learning_project_v2/lib/python3.9/site-packages (from pandas) (2023.3.post1)\r\n",
      "Requirement already satisfied: tzdata>=2022.1 in /Users/alexandragridneva/ProgrammingTools/miniconda3/envs/deep_learning_project_v2/lib/python3.9/site-packages (from pandas) (2023.3)\r\n",
      "Requirement already satisfied: numpy>=1.20.3 in /Users/alexandragridneva/ProgrammingTools/miniconda3/envs/deep_learning_project_v2/lib/python3.9/site-packages (from pandas) (1.26.0)\r\n",
      "Requirement already satisfied: certifi in /Users/alexandragridneva/ProgrammingTools/miniconda3/envs/deep_learning_project_v2/lib/python3.9/site-packages (from httpx) (2023.7.22)\r\n",
      "Requirement already satisfied: sniffio in /Users/alexandragridneva/ProgrammingTools/miniconda3/envs/deep_learning_project_v2/lib/python3.9/site-packages (from httpx) (1.2.0)\r\n",
      "Requirement already satisfied: rfc3986[idna2008]<2,>=1.3 in /Users/alexandragridneva/ProgrammingTools/miniconda3/envs/deep_learning_project_v2/lib/python3.9/site-packages (from httpx) (1.4.0)\r\n",
      "Requirement already satisfied: httpcore<0.16.0,>=0.15.0 in /Users/alexandragridneva/ProgrammingTools/miniconda3/envs/deep_learning_project_v2/lib/python3.9/site-packages (from httpx) (0.15.0)\r\n",
      "Requirement already satisfied: h11<0.13,>=0.11 in /Users/alexandragridneva/ProgrammingTools/miniconda3/envs/deep_learning_project_v2/lib/python3.9/site-packages (from httpcore<0.16.0,>=0.15.0->httpx) (0.12.0)\r\n",
      "Requirement already satisfied: anyio==3.* in /Users/alexandragridneva/ProgrammingTools/miniconda3/envs/deep_learning_project_v2/lib/python3.9/site-packages (from httpcore<0.16.0,>=0.15.0->httpx) (3.7.1)\r\n",
      "Requirement already satisfied: idna>=2.8 in /Users/alexandragridneva/ProgrammingTools/miniconda3/envs/deep_learning_project_v2/lib/python3.9/site-packages (from anyio==3.*->httpcore<0.16.0,>=0.15.0->httpx) (3.4)\r\n",
      "Requirement already satisfied: exceptiongroup in /Users/alexandragridneva/ProgrammingTools/miniconda3/envs/deep_learning_project_v2/lib/python3.9/site-packages (from anyio==3.*->httpcore<0.16.0,>=0.15.0->httpx) (1.0.4)\r\n",
      "Requirement already satisfied: six>=1.5 in /Users/alexandragridneva/ProgrammingTools/miniconda3/envs/deep_learning_project_v2/lib/python3.9/site-packages (from python-dateutil>=2.8.2->pandas) (1.16.0)\r\n"
     ]
    }
   ],
   "source": [
    "!pip install loguru beautifulsoup4 pandas httpx"
   ]
  },
  {
   "cell_type": "code",
   "execution_count": 10,
   "metadata": {
    "id": "8WY1QhUjFh7Z",
    "ExecuteTime": {
     "end_time": "2023-10-02T14:28:26.561434Z",
     "start_time": "2023-10-02T14:28:26.559811Z"
    }
   },
   "outputs": [],
   "source": [
    "import requests\n",
    "import pandas as pd\n",
    "import asyncio\n",
    "import httpx\n",
    "from bs4 import BeautifulSoup\n",
    "from loguru import logger"
   ]
  },
  {
   "cell_type": "code",
   "execution_count": 11,
   "metadata": {
    "id": "eRPcWF56Gz50",
    "ExecuteTime": {
     "end_time": "2023-10-02T14:28:26.565805Z",
     "start_time": "2023-10-02T14:28:26.564084Z"
    }
   },
   "outputs": [],
   "source": [
    "async def get_data_to_dataframe(start_page: int, end_page: int) -> dict:\n",
    "    \"\"\"\n",
    "    Function to get data from https://scitechdaily.com\n",
    "    and load it to dict\n",
    "    :return:\n",
    "    \"\"\"\n",
    "    articles_data = {\"category_tag\": [], \"article_title\": [], \"article_link\": [], \"article_content\": []}\n",
    "\n",
    "    if start_page == 1:\n",
    "      # For the first page we should get content separately because of different element tag that contains content\n",
    "      await extract_data(articles_data, start_page, \"class\", \"archive-list\")\n",
    "      for page_num in range(2, end_page + 1):\n",
    "          await extract_data(articles_data, page_num, \"id\", \"main-content\")\n",
    "    else:\n",
    "      for page_num in range(start_page, end_page + 1):\n",
    "          await extract_data(articles_data, page_num, \"id\", \"main-content\")\n",
    "\n",
    "    return articles_data"
   ]
  },
  {
   "cell_type": "code",
   "execution_count": 12,
   "metadata": {
    "id": "-gzIj9NiG81A",
    "ExecuteTime": {
     "end_time": "2023-10-02T14:28:26.572110Z",
     "start_time": "2023-10-02T14:28:26.570506Z"
    }
   },
   "outputs": [],
   "source": [
    "async def extract_data(data_dict: dict, page_num: int, main_content_attribute: str, main_content_tag: str):\n",
    "    \"\"\"\n",
    "    Method to parse data from HTML page\n",
    "    :param data_dict: dict to dump data\n",
    "    :param page_num: number of page to download\n",
    "    :param main_content_attribute: div attribute of main content\n",
    "    :param main_content_tag: definition of attribute (e.g. class name)\n",
    "    :return:\n",
    "    \"\"\"\n",
    "    client = httpx.AsyncClient(verify=False, follow_redirects=True, timeout=None)\n",
    "    content = await client.get(f\"https://scitechdaily.com/page/{page_num}\")\n",
    "    bs = BeautifulSoup(content.text)\n",
    "    articles = bs.find(\"div\", {main_content_attribute: main_content_tag}).find_all(\"article\", class_=[\"content-list\", \"clearfix\"])\n",
    "    for article in articles:\n",
    "      category_tag = article.find_all(\"span\", {\"class\": \"entry-meta-cats\"})[0]\n",
    "      article_title = article.find_all(\"h3\", class_=[\"entry-title\", \"content-list-title\"])[0]\n",
    "      data_dict[\"category_tag\"].append(category_tag.a.text)\n",
    "      data_dict[\"article_title\"].append(article_title.a[\"title\"])\n",
    "      data_dict[\"article_link\"].append(article_title.a[\"href\"])\n",
    "      article_content = await client.get(article_title.a[\"href\"])\n",
    "      article_bs = BeautifulSoup(article_content.text)\n",
    "      article_text = article_bs.find(\"div\", {\"class\": \"entry-content\"}).find_all(\"p\")\n",
    "      raw_content = [p.text for p in article_text]\n",
    "      data_dict[\"article_content\"].append(\"\\n\".join(raw_content))\n",
    "\n",
    "    logger.info(f\"Data from page {page_num=} is downloaded\")"
   ]
  },
  {
   "cell_type": "code",
   "execution_count": 13,
   "metadata": {
    "id": "ZUSEPj1-HCNz",
    "ExecuteTime": {
     "end_time": "2023-10-02T14:28:26.575004Z",
     "start_time": "2023-10-02T14:28:26.573556Z"
    }
   },
   "outputs": [],
   "source": [
    "def dump_data_to_csv(data: dict, path_to_file: str) -> None:\n",
    "    \"\"\"\n",
    "    Method to dump data to csv file in train folder\n",
    "    :param data: dict with keys as column names and values as lists\n",
    "    :return:\n",
    "    \"\"\"\n",
    "\n",
    "    df = pd.DataFrame(data)\n",
    "    df.to_csv(path_to_file, index=False, sep=\";\")"
   ]
  },
  {
   "cell_type": "code",
   "execution_count": 14,
   "metadata": {
    "id": "uFR1GG62bXjT",
    "ExecuteTime": {
     "end_time": "2023-10-02T14:28:26.577047Z",
     "start_time": "2023-10-02T14:28:26.576067Z"
    }
   },
   "outputs": [],
   "source": [
    "%autoawait asyncio"
   ]
  },
  {
   "cell_type": "code",
   "execution_count": 16,
   "metadata": {
    "colab": {
     "base_uri": "https://localhost:8080/"
    },
    "id": "DOyX98bfbmvb",
    "outputId": "915c11fc-99ac-4b48-ee06-130000327537",
    "ExecuteTime": {
     "end_time": "2023-10-02T14:37:58.934066Z",
     "start_time": "2023-10-02T14:37:31.467708Z"
    }
   },
   "outputs": [
    {
     "name": "stderr",
     "output_type": "stream",
     "text": [
      "2023-10-02 17:37:43.497 | INFO     | __main__:extract_data:26 - Data from page page_num=1 is downloaded\n"
     ]
    },
    {
     "ename": "CancelledError",
     "evalue": "",
     "output_type": "error",
     "traceback": [
      "\u001B[0;31m---------------------------------------------------------------------------\u001B[0m",
      "\u001B[0;31mSSLWantReadError\u001B[0m                          Traceback (most recent call last)",
      "File \u001B[0;32m~/ProgrammingTools/miniconda3/envs/deep_learning_project_v2/lib/python3.9/site-packages/anyio/streams/tls.py:131\u001B[0m, in \u001B[0;36mTLSStream._call_sslobject_method\u001B[0;34m(self, func, *args)\u001B[0m\n\u001B[1;32m    130\u001B[0m \u001B[38;5;28;01mtry\u001B[39;00m:\n\u001B[0;32m--> 131\u001B[0m     result \u001B[38;5;241m=\u001B[39m \u001B[43mfunc\u001B[49m\u001B[43m(\u001B[49m\u001B[38;5;241;43m*\u001B[39;49m\u001B[43margs\u001B[49m\u001B[43m)\u001B[49m\n\u001B[1;32m    132\u001B[0m \u001B[38;5;28;01mexcept\u001B[39;00m ssl\u001B[38;5;241m.\u001B[39mSSLWantReadError:\n",
      "File \u001B[0;32m~/ProgrammingTools/miniconda3/envs/deep_learning_project_v2/lib/python3.9/ssl.py:889\u001B[0m, in \u001B[0;36mSSLObject.read\u001B[0;34m(self, len, buffer)\u001B[0m\n\u001B[1;32m    888\u001B[0m \u001B[38;5;28;01melse\u001B[39;00m:\n\u001B[0;32m--> 889\u001B[0m     v \u001B[38;5;241m=\u001B[39m \u001B[38;5;28;43mself\u001B[39;49m\u001B[38;5;241;43m.\u001B[39;49m\u001B[43m_sslobj\u001B[49m\u001B[38;5;241;43m.\u001B[39;49m\u001B[43mread\u001B[49m\u001B[43m(\u001B[49m\u001B[38;5;28;43mlen\u001B[39;49m\u001B[43m)\u001B[49m\n\u001B[1;32m    890\u001B[0m \u001B[38;5;28;01mreturn\u001B[39;00m v\n",
      "\u001B[0;31mSSLWantReadError\u001B[0m: The operation did not complete (read) (_ssl.c:2633)",
      "\nDuring handling of the above exception, another exception occurred:\n",
      "\u001B[0;31mCancelledError\u001B[0m                            Traceback (most recent call last)",
      "Cell \u001B[0;32mIn[16], line 9\u001B[0m\n\u001B[1;32m      6\u001B[0m     dump_data_to_csv(train_data, \u001B[38;5;124m\"\u001B[39m\u001B[38;5;124m./../data/train/scitechdaily.csv\u001B[39m\u001B[38;5;124m\"\u001B[39m)\n\u001B[1;32m      7\u001B[0m     logger\u001B[38;5;241m.\u001B[39minfo(\u001B[38;5;124m\"\u001B[39m\u001B[38;5;124mTrain data download completed\u001B[39m\u001B[38;5;124m\"\u001B[39m)\n\u001B[0;32m----> 9\u001B[0m \u001B[38;5;28;01mawait\u001B[39;00m main()\n\u001B[1;32m     10\u001B[0m logger\u001B[38;5;241m.\u001B[39minfo(\u001B[38;5;124m\"\u001B[39m\u001B[38;5;124mDownload completed\u001B[39m\u001B[38;5;124m\"\u001B[39m)\n",
      "Cell \u001B[0;32mIn[16], line 2\u001B[0m, in \u001B[0;36mmain\u001B[0;34m()\u001B[0m\n\u001B[1;32m      1\u001B[0m \u001B[38;5;28;01masync\u001B[39;00m \u001B[38;5;28;01mdef\u001B[39;00m \u001B[38;5;21mmain\u001B[39m():\n\u001B[0;32m----> 2\u001B[0m     test_data: \u001B[38;5;28mdict\u001B[39m \u001B[38;5;241m=\u001B[39m \u001B[38;5;28;01mawait\u001B[39;00m get_data_to_dataframe(\u001B[38;5;241m1\u001B[39m, \u001B[38;5;241m100\u001B[39m)\n\u001B[1;32m      3\u001B[0m     dump_data_to_csv(test_data, \u001B[38;5;124m\"\u001B[39m\u001B[38;5;124m./../data/test/scitechdaily_test.csv\u001B[39m\u001B[38;5;124m\"\u001B[39m)\n\u001B[1;32m      4\u001B[0m     logger\u001B[38;5;241m.\u001B[39minfo(\u001B[38;5;124m\"\u001B[39m\u001B[38;5;124mTest data download completed\u001B[39m\u001B[38;5;124m\"\u001B[39m)\n",
      "Cell \u001B[0;32mIn[11], line 13\u001B[0m, in \u001B[0;36mget_data_to_dataframe\u001B[0;34m(start_page, end_page)\u001B[0m\n\u001B[1;32m     11\u001B[0m   \u001B[38;5;28;01mawait\u001B[39;00m extract_data(articles_data, start_page, \u001B[38;5;124m\"\u001B[39m\u001B[38;5;124mclass\u001B[39m\u001B[38;5;124m\"\u001B[39m, \u001B[38;5;124m\"\u001B[39m\u001B[38;5;124marchive-list\u001B[39m\u001B[38;5;124m\"\u001B[39m)\n\u001B[1;32m     12\u001B[0m   \u001B[38;5;28;01mfor\u001B[39;00m page_num \u001B[38;5;129;01min\u001B[39;00m \u001B[38;5;28mrange\u001B[39m(\u001B[38;5;241m2\u001B[39m, end_page \u001B[38;5;241m+\u001B[39m \u001B[38;5;241m1\u001B[39m):\n\u001B[0;32m---> 13\u001B[0m       \u001B[38;5;28;01mawait\u001B[39;00m extract_data(articles_data, page_num, \u001B[38;5;124m\"\u001B[39m\u001B[38;5;124mid\u001B[39m\u001B[38;5;124m\"\u001B[39m, \u001B[38;5;124m\"\u001B[39m\u001B[38;5;124mmain-content\u001B[39m\u001B[38;5;124m\"\u001B[39m)\n\u001B[1;32m     14\u001B[0m \u001B[38;5;28;01melse\u001B[39;00m:\n\u001B[1;32m     15\u001B[0m   \u001B[38;5;28;01mfor\u001B[39;00m page_num \u001B[38;5;129;01min\u001B[39;00m \u001B[38;5;28mrange\u001B[39m(start_page, end_page \u001B[38;5;241m+\u001B[39m \u001B[38;5;241m1\u001B[39m):\n",
      "Cell \u001B[0;32mIn[12], line 20\u001B[0m, in \u001B[0;36mextract_data\u001B[0;34m(data_dict, page_num, main_content_attribute, main_content_tag)\u001B[0m\n\u001B[1;32m     18\u001B[0m data_dict[\u001B[38;5;124m\"\u001B[39m\u001B[38;5;124marticle_title\u001B[39m\u001B[38;5;124m\"\u001B[39m]\u001B[38;5;241m.\u001B[39mappend(article_title\u001B[38;5;241m.\u001B[39ma[\u001B[38;5;124m\"\u001B[39m\u001B[38;5;124mtitle\u001B[39m\u001B[38;5;124m\"\u001B[39m])\n\u001B[1;32m     19\u001B[0m data_dict[\u001B[38;5;124m\"\u001B[39m\u001B[38;5;124marticle_link\u001B[39m\u001B[38;5;124m\"\u001B[39m]\u001B[38;5;241m.\u001B[39mappend(article_title\u001B[38;5;241m.\u001B[39ma[\u001B[38;5;124m\"\u001B[39m\u001B[38;5;124mhref\u001B[39m\u001B[38;5;124m\"\u001B[39m])\n\u001B[0;32m---> 20\u001B[0m article_content \u001B[38;5;241m=\u001B[39m \u001B[38;5;28;01mawait\u001B[39;00m client\u001B[38;5;241m.\u001B[39mget(article_title\u001B[38;5;241m.\u001B[39ma[\u001B[38;5;124m\"\u001B[39m\u001B[38;5;124mhref\u001B[39m\u001B[38;5;124m\"\u001B[39m])\n\u001B[1;32m     21\u001B[0m article_bs \u001B[38;5;241m=\u001B[39m BeautifulSoup(article_content\u001B[38;5;241m.\u001B[39mtext)\n\u001B[1;32m     22\u001B[0m article_text \u001B[38;5;241m=\u001B[39m article_bs\u001B[38;5;241m.\u001B[39mfind(\u001B[38;5;124m\"\u001B[39m\u001B[38;5;124mdiv\u001B[39m\u001B[38;5;124m\"\u001B[39m, {\u001B[38;5;124m\"\u001B[39m\u001B[38;5;124mclass\u001B[39m\u001B[38;5;124m\"\u001B[39m: \u001B[38;5;124m\"\u001B[39m\u001B[38;5;124mentry-content\u001B[39m\u001B[38;5;124m\"\u001B[39m})\u001B[38;5;241m.\u001B[39mfind_all(\u001B[38;5;124m\"\u001B[39m\u001B[38;5;124mp\u001B[39m\u001B[38;5;124m\"\u001B[39m)\n",
      "File \u001B[0;32m~/ProgrammingTools/miniconda3/envs/deep_learning_project_v2/lib/python3.9/site-packages/httpx/_client.py:1751\u001B[0m, in \u001B[0;36mAsyncClient.get\u001B[0;34m(self, url, params, headers, cookies, auth, follow_redirects, timeout, extensions)\u001B[0m\n\u001B[1;32m   1734\u001B[0m \u001B[38;5;28;01masync\u001B[39;00m \u001B[38;5;28;01mdef\u001B[39;00m \u001B[38;5;21mget\u001B[39m(\n\u001B[1;32m   1735\u001B[0m     \u001B[38;5;28mself\u001B[39m,\n\u001B[1;32m   1736\u001B[0m     url: URLTypes,\n\u001B[0;32m   (...)\u001B[0m\n\u001B[1;32m   1744\u001B[0m     extensions: typing\u001B[38;5;241m.\u001B[39mOptional[\u001B[38;5;28mdict\u001B[39m] \u001B[38;5;241m=\u001B[39m \u001B[38;5;28;01mNone\u001B[39;00m,\n\u001B[1;32m   1745\u001B[0m ) \u001B[38;5;241m-\u001B[39m\u001B[38;5;241m>\u001B[39m Response:\n\u001B[1;32m   1746\u001B[0m \u001B[38;5;250m    \u001B[39m\u001B[38;5;124;03m\"\"\"\u001B[39;00m\n\u001B[1;32m   1747\u001B[0m \u001B[38;5;124;03m    Send a `GET` request.\u001B[39;00m\n\u001B[1;32m   1748\u001B[0m \n\u001B[1;32m   1749\u001B[0m \u001B[38;5;124;03m    **Parameters**: See `httpx.request`.\u001B[39;00m\n\u001B[1;32m   1750\u001B[0m \u001B[38;5;124;03m    \"\"\"\u001B[39;00m\n\u001B[0;32m-> 1751\u001B[0m     \u001B[38;5;28;01mreturn\u001B[39;00m \u001B[38;5;28;01mawait\u001B[39;00m \u001B[38;5;28mself\u001B[39m\u001B[38;5;241m.\u001B[39mrequest(\n\u001B[1;32m   1752\u001B[0m         \u001B[38;5;124m\"\u001B[39m\u001B[38;5;124mGET\u001B[39m\u001B[38;5;124m\"\u001B[39m,\n\u001B[1;32m   1753\u001B[0m         url,\n\u001B[1;32m   1754\u001B[0m         params\u001B[38;5;241m=\u001B[39mparams,\n\u001B[1;32m   1755\u001B[0m         headers\u001B[38;5;241m=\u001B[39mheaders,\n\u001B[1;32m   1756\u001B[0m         cookies\u001B[38;5;241m=\u001B[39mcookies,\n\u001B[1;32m   1757\u001B[0m         auth\u001B[38;5;241m=\u001B[39mauth,\n\u001B[1;32m   1758\u001B[0m         follow_redirects\u001B[38;5;241m=\u001B[39mfollow_redirects,\n\u001B[1;32m   1759\u001B[0m         timeout\u001B[38;5;241m=\u001B[39mtimeout,\n\u001B[1;32m   1760\u001B[0m         extensions\u001B[38;5;241m=\u001B[39mextensions,\n\u001B[1;32m   1761\u001B[0m     )\n",
      "File \u001B[0;32m~/ProgrammingTools/miniconda3/envs/deep_learning_project_v2/lib/python3.9/site-packages/httpx/_client.py:1527\u001B[0m, in \u001B[0;36mAsyncClient.request\u001B[0;34m(self, method, url, content, data, files, json, params, headers, cookies, auth, follow_redirects, timeout, extensions)\u001B[0m\n\u001B[1;32m   1498\u001B[0m \u001B[38;5;250m\u001B[39m\u001B[38;5;124;03m\"\"\"\u001B[39;00m\n\u001B[1;32m   1499\u001B[0m \u001B[38;5;124;03mBuild and send a request.\u001B[39;00m\n\u001B[1;32m   1500\u001B[0m \n\u001B[0;32m   (...)\u001B[0m\n\u001B[1;32m   1512\u001B[0m \u001B[38;5;124;03m[0]: /advanced/#merging-of-configuration\u001B[39;00m\n\u001B[1;32m   1513\u001B[0m \u001B[38;5;124;03m\"\"\"\u001B[39;00m\n\u001B[1;32m   1514\u001B[0m request \u001B[38;5;241m=\u001B[39m \u001B[38;5;28mself\u001B[39m\u001B[38;5;241m.\u001B[39mbuild_request(\n\u001B[1;32m   1515\u001B[0m     method\u001B[38;5;241m=\u001B[39mmethod,\n\u001B[1;32m   1516\u001B[0m     url\u001B[38;5;241m=\u001B[39murl,\n\u001B[0;32m   (...)\u001B[0m\n\u001B[1;32m   1525\u001B[0m     extensions\u001B[38;5;241m=\u001B[39mextensions,\n\u001B[1;32m   1526\u001B[0m )\n\u001B[0;32m-> 1527\u001B[0m \u001B[38;5;28;01mreturn\u001B[39;00m \u001B[38;5;28;01mawait\u001B[39;00m \u001B[38;5;28mself\u001B[39m\u001B[38;5;241m.\u001B[39msend(request, auth\u001B[38;5;241m=\u001B[39mauth, follow_redirects\u001B[38;5;241m=\u001B[39mfollow_redirects)\n",
      "File \u001B[0;32m~/ProgrammingTools/miniconda3/envs/deep_learning_project_v2/lib/python3.9/site-packages/httpx/_client.py:1614\u001B[0m, in \u001B[0;36mAsyncClient.send\u001B[0;34m(self, request, stream, auth, follow_redirects)\u001B[0m\n\u001B[1;32m   1606\u001B[0m follow_redirects \u001B[38;5;241m=\u001B[39m (\n\u001B[1;32m   1607\u001B[0m     \u001B[38;5;28mself\u001B[39m\u001B[38;5;241m.\u001B[39mfollow_redirects\n\u001B[1;32m   1608\u001B[0m     \u001B[38;5;28;01mif\u001B[39;00m \u001B[38;5;28misinstance\u001B[39m(follow_redirects, UseClientDefault)\n\u001B[1;32m   1609\u001B[0m     \u001B[38;5;28;01melse\u001B[39;00m follow_redirects\n\u001B[1;32m   1610\u001B[0m )\n\u001B[1;32m   1612\u001B[0m auth \u001B[38;5;241m=\u001B[39m \u001B[38;5;28mself\u001B[39m\u001B[38;5;241m.\u001B[39m_build_request_auth(request, auth)\n\u001B[0;32m-> 1614\u001B[0m response \u001B[38;5;241m=\u001B[39m \u001B[38;5;28;01mawait\u001B[39;00m \u001B[38;5;28mself\u001B[39m\u001B[38;5;241m.\u001B[39m_send_handling_auth(\n\u001B[1;32m   1615\u001B[0m     request,\n\u001B[1;32m   1616\u001B[0m     auth\u001B[38;5;241m=\u001B[39mauth,\n\u001B[1;32m   1617\u001B[0m     follow_redirects\u001B[38;5;241m=\u001B[39mfollow_redirects,\n\u001B[1;32m   1618\u001B[0m     history\u001B[38;5;241m=\u001B[39m[],\n\u001B[1;32m   1619\u001B[0m )\n\u001B[1;32m   1620\u001B[0m \u001B[38;5;28;01mtry\u001B[39;00m:\n\u001B[1;32m   1621\u001B[0m     \u001B[38;5;28;01mif\u001B[39;00m \u001B[38;5;129;01mnot\u001B[39;00m stream:\n",
      "File \u001B[0;32m~/ProgrammingTools/miniconda3/envs/deep_learning_project_v2/lib/python3.9/site-packages/httpx/_client.py:1642\u001B[0m, in \u001B[0;36mAsyncClient._send_handling_auth\u001B[0;34m(self, request, auth, follow_redirects, history)\u001B[0m\n\u001B[1;32m   1639\u001B[0m request \u001B[38;5;241m=\u001B[39m \u001B[38;5;28;01mawait\u001B[39;00m auth_flow\u001B[38;5;241m.\u001B[39m\u001B[38;5;21m__anext__\u001B[39m()\n\u001B[1;32m   1641\u001B[0m \u001B[38;5;28;01mwhile\u001B[39;00m \u001B[38;5;28;01mTrue\u001B[39;00m:\n\u001B[0;32m-> 1642\u001B[0m     response \u001B[38;5;241m=\u001B[39m \u001B[38;5;28;01mawait\u001B[39;00m \u001B[38;5;28mself\u001B[39m\u001B[38;5;241m.\u001B[39m_send_handling_redirects(\n\u001B[1;32m   1643\u001B[0m         request,\n\u001B[1;32m   1644\u001B[0m         follow_redirects\u001B[38;5;241m=\u001B[39mfollow_redirects,\n\u001B[1;32m   1645\u001B[0m         history\u001B[38;5;241m=\u001B[39mhistory,\n\u001B[1;32m   1646\u001B[0m     )\n\u001B[1;32m   1647\u001B[0m     \u001B[38;5;28;01mtry\u001B[39;00m:\n\u001B[1;32m   1648\u001B[0m         \u001B[38;5;28;01mtry\u001B[39;00m:\n",
      "File \u001B[0;32m~/ProgrammingTools/miniconda3/envs/deep_learning_project_v2/lib/python3.9/site-packages/httpx/_client.py:1679\u001B[0m, in \u001B[0;36mAsyncClient._send_handling_redirects\u001B[0;34m(self, request, follow_redirects, history)\u001B[0m\n\u001B[1;32m   1676\u001B[0m \u001B[38;5;28;01mfor\u001B[39;00m hook \u001B[38;5;129;01min\u001B[39;00m \u001B[38;5;28mself\u001B[39m\u001B[38;5;241m.\u001B[39m_event_hooks[\u001B[38;5;124m\"\u001B[39m\u001B[38;5;124mrequest\u001B[39m\u001B[38;5;124m\"\u001B[39m]:\n\u001B[1;32m   1677\u001B[0m     \u001B[38;5;28;01mawait\u001B[39;00m hook(request)\n\u001B[0;32m-> 1679\u001B[0m response \u001B[38;5;241m=\u001B[39m \u001B[38;5;28;01mawait\u001B[39;00m \u001B[38;5;28mself\u001B[39m\u001B[38;5;241m.\u001B[39m_send_single_request(request)\n\u001B[1;32m   1680\u001B[0m \u001B[38;5;28;01mtry\u001B[39;00m:\n\u001B[1;32m   1681\u001B[0m     \u001B[38;5;28;01mfor\u001B[39;00m hook \u001B[38;5;129;01min\u001B[39;00m \u001B[38;5;28mself\u001B[39m\u001B[38;5;241m.\u001B[39m_event_hooks[\u001B[38;5;124m\"\u001B[39m\u001B[38;5;124mresponse\u001B[39m\u001B[38;5;124m\"\u001B[39m]:\n",
      "File \u001B[0;32m~/ProgrammingTools/miniconda3/envs/deep_learning_project_v2/lib/python3.9/site-packages/httpx/_client.py:1716\u001B[0m, in \u001B[0;36mAsyncClient._send_single_request\u001B[0;34m(self, request)\u001B[0m\n\u001B[1;32m   1711\u001B[0m     \u001B[38;5;28;01mraise\u001B[39;00m \u001B[38;5;167;01mRuntimeError\u001B[39;00m(\n\u001B[1;32m   1712\u001B[0m         \u001B[38;5;124m\"\u001B[39m\u001B[38;5;124mAttempted to send an sync request with an AsyncClient instance.\u001B[39m\u001B[38;5;124m\"\u001B[39m\n\u001B[1;32m   1713\u001B[0m     )\n\u001B[1;32m   1715\u001B[0m \u001B[38;5;28;01mwith\u001B[39;00m request_context(request\u001B[38;5;241m=\u001B[39mrequest):\n\u001B[0;32m-> 1716\u001B[0m     response \u001B[38;5;241m=\u001B[39m \u001B[38;5;28;01mawait\u001B[39;00m transport\u001B[38;5;241m.\u001B[39mhandle_async_request(request)\n\u001B[1;32m   1718\u001B[0m \u001B[38;5;28;01massert\u001B[39;00m \u001B[38;5;28misinstance\u001B[39m(response\u001B[38;5;241m.\u001B[39mstream, AsyncByteStream)\n\u001B[1;32m   1719\u001B[0m response\u001B[38;5;241m.\u001B[39mrequest \u001B[38;5;241m=\u001B[39m request\n",
      "File \u001B[0;32m~/ProgrammingTools/miniconda3/envs/deep_learning_project_v2/lib/python3.9/site-packages/httpx/_transports/default.py:353\u001B[0m, in \u001B[0;36mAsyncHTTPTransport.handle_async_request\u001B[0;34m(self, request)\u001B[0m\n\u001B[1;32m    340\u001B[0m req \u001B[38;5;241m=\u001B[39m httpcore\u001B[38;5;241m.\u001B[39mRequest(\n\u001B[1;32m    341\u001B[0m     method\u001B[38;5;241m=\u001B[39mrequest\u001B[38;5;241m.\u001B[39mmethod,\n\u001B[1;32m    342\u001B[0m     url\u001B[38;5;241m=\u001B[39mhttpcore\u001B[38;5;241m.\u001B[39mURL(\n\u001B[0;32m   (...)\u001B[0m\n\u001B[1;32m    350\u001B[0m     extensions\u001B[38;5;241m=\u001B[39mrequest\u001B[38;5;241m.\u001B[39mextensions,\n\u001B[1;32m    351\u001B[0m )\n\u001B[1;32m    352\u001B[0m \u001B[38;5;28;01mwith\u001B[39;00m map_httpcore_exceptions():\n\u001B[0;32m--> 353\u001B[0m     resp \u001B[38;5;241m=\u001B[39m \u001B[38;5;28;01mawait\u001B[39;00m \u001B[38;5;28mself\u001B[39m\u001B[38;5;241m.\u001B[39m_pool\u001B[38;5;241m.\u001B[39mhandle_async_request(req)\n\u001B[1;32m    355\u001B[0m \u001B[38;5;28;01massert\u001B[39;00m \u001B[38;5;28misinstance\u001B[39m(resp\u001B[38;5;241m.\u001B[39mstream, typing\u001B[38;5;241m.\u001B[39mAsyncIterable)\n\u001B[1;32m    357\u001B[0m \u001B[38;5;28;01mreturn\u001B[39;00m Response(\n\u001B[1;32m    358\u001B[0m     status_code\u001B[38;5;241m=\u001B[39mresp\u001B[38;5;241m.\u001B[39mstatus,\n\u001B[1;32m    359\u001B[0m     headers\u001B[38;5;241m=\u001B[39mresp\u001B[38;5;241m.\u001B[39mheaders,\n\u001B[1;32m    360\u001B[0m     stream\u001B[38;5;241m=\u001B[39mAsyncResponseStream(resp\u001B[38;5;241m.\u001B[39mstream),\n\u001B[1;32m    361\u001B[0m     extensions\u001B[38;5;241m=\u001B[39mresp\u001B[38;5;241m.\u001B[39mextensions,\n\u001B[1;32m    362\u001B[0m )\n",
      "File \u001B[0;32m~/ProgrammingTools/miniconda3/envs/deep_learning_project_v2/lib/python3.9/site-packages/httpcore/_async/connection_pool.py:253\u001B[0m, in \u001B[0;36mAsyncConnectionPool.handle_async_request\u001B[0;34m(self, request)\u001B[0m\n\u001B[1;32m    251\u001B[0m \u001B[38;5;28;01mexcept\u001B[39;00m \u001B[38;5;167;01mBaseException\u001B[39;00m \u001B[38;5;28;01mas\u001B[39;00m exc:\n\u001B[1;32m    252\u001B[0m     \u001B[38;5;28;01mawait\u001B[39;00m \u001B[38;5;28mself\u001B[39m\u001B[38;5;241m.\u001B[39mresponse_closed(status)\n\u001B[0;32m--> 253\u001B[0m     \u001B[38;5;28;01mraise\u001B[39;00m exc\n\u001B[1;32m    254\u001B[0m \u001B[38;5;28;01melse\u001B[39;00m:\n\u001B[1;32m    255\u001B[0m     \u001B[38;5;28;01mbreak\u001B[39;00m\n",
      "File \u001B[0;32m~/ProgrammingTools/miniconda3/envs/deep_learning_project_v2/lib/python3.9/site-packages/httpcore/_async/connection_pool.py:237\u001B[0m, in \u001B[0;36mAsyncConnectionPool.handle_async_request\u001B[0;34m(self, request)\u001B[0m\n\u001B[1;32m    234\u001B[0m         \u001B[38;5;28;01mraise\u001B[39;00m exc\n\u001B[1;32m    236\u001B[0m \u001B[38;5;28;01mtry\u001B[39;00m:\n\u001B[0;32m--> 237\u001B[0m     response \u001B[38;5;241m=\u001B[39m \u001B[38;5;28;01mawait\u001B[39;00m connection\u001B[38;5;241m.\u001B[39mhandle_async_request(request)\n\u001B[1;32m    238\u001B[0m \u001B[38;5;28;01mexcept\u001B[39;00m ConnectionNotAvailable:\n\u001B[1;32m    239\u001B[0m     \u001B[38;5;66;03m# The ConnectionNotAvailable exception is a special case, that\u001B[39;00m\n\u001B[1;32m    240\u001B[0m     \u001B[38;5;66;03m# indicates we need to retry the request on a new connection.\u001B[39;00m\n\u001B[0;32m   (...)\u001B[0m\n\u001B[1;32m    244\u001B[0m     \u001B[38;5;66;03m# might end up as an HTTP/2 connection, but which actually ends\u001B[39;00m\n\u001B[1;32m    245\u001B[0m     \u001B[38;5;66;03m# up as HTTP/1.1.\u001B[39;00m\n\u001B[1;32m    246\u001B[0m     \u001B[38;5;28;01masync\u001B[39;00m \u001B[38;5;28;01mwith\u001B[39;00m \u001B[38;5;28mself\u001B[39m\u001B[38;5;241m.\u001B[39m_pool_lock:\n\u001B[1;32m    247\u001B[0m         \u001B[38;5;66;03m# Maintain our position in the request queue, but reset the\u001B[39;00m\n\u001B[1;32m    248\u001B[0m         \u001B[38;5;66;03m# status so that the request becomes queued again.\u001B[39;00m\n",
      "File \u001B[0;32m~/ProgrammingTools/miniconda3/envs/deep_learning_project_v2/lib/python3.9/site-packages/httpcore/_async/connection.py:90\u001B[0m, in \u001B[0;36mAsyncHTTPConnection.handle_async_request\u001B[0;34m(self, request)\u001B[0m\n\u001B[1;32m     87\u001B[0m     \u001B[38;5;28;01melif\u001B[39;00m \u001B[38;5;129;01mnot\u001B[39;00m \u001B[38;5;28mself\u001B[39m\u001B[38;5;241m.\u001B[39m_connection\u001B[38;5;241m.\u001B[39mis_available():\n\u001B[1;32m     88\u001B[0m         \u001B[38;5;28;01mraise\u001B[39;00m ConnectionNotAvailable()\n\u001B[0;32m---> 90\u001B[0m \u001B[38;5;28;01mreturn\u001B[39;00m \u001B[38;5;28;01mawait\u001B[39;00m \u001B[38;5;28mself\u001B[39m\u001B[38;5;241m.\u001B[39m_connection\u001B[38;5;241m.\u001B[39mhandle_async_request(request)\n",
      "File \u001B[0;32m~/ProgrammingTools/miniconda3/envs/deep_learning_project_v2/lib/python3.9/site-packages/httpcore/_async/http11.py:105\u001B[0m, in \u001B[0;36mAsyncHTTP11Connection.handle_async_request\u001B[0;34m(self, request)\u001B[0m\n\u001B[1;32m    103\u001B[0m \u001B[38;5;28;01masync\u001B[39;00m \u001B[38;5;28;01mwith\u001B[39;00m Trace(\u001B[38;5;124m\"\u001B[39m\u001B[38;5;124mhttp11.response_closed\u001B[39m\u001B[38;5;124m\"\u001B[39m, request) \u001B[38;5;28;01mas\u001B[39;00m trace:\n\u001B[1;32m    104\u001B[0m     \u001B[38;5;28;01mawait\u001B[39;00m \u001B[38;5;28mself\u001B[39m\u001B[38;5;241m.\u001B[39m_response_closed()\n\u001B[0;32m--> 105\u001B[0m \u001B[38;5;28;01mraise\u001B[39;00m exc\n",
      "File \u001B[0;32m~/ProgrammingTools/miniconda3/envs/deep_learning_project_v2/lib/python3.9/site-packages/httpcore/_async/http11.py:84\u001B[0m, in \u001B[0;36mAsyncHTTP11Connection.handle_async_request\u001B[0;34m(self, request)\u001B[0m\n\u001B[1;32m     75\u001B[0m     \u001B[38;5;28;01mawait\u001B[39;00m \u001B[38;5;28mself\u001B[39m\u001B[38;5;241m.\u001B[39m_send_request_body(\u001B[38;5;241m*\u001B[39m\u001B[38;5;241m*\u001B[39mkwargs)\n\u001B[1;32m     76\u001B[0m \u001B[38;5;28;01masync\u001B[39;00m \u001B[38;5;28;01mwith\u001B[39;00m Trace(\n\u001B[1;32m     77\u001B[0m     \u001B[38;5;124m\"\u001B[39m\u001B[38;5;124mhttp11.receive_response_headers\u001B[39m\u001B[38;5;124m\"\u001B[39m, request, kwargs\n\u001B[1;32m     78\u001B[0m ) \u001B[38;5;28;01mas\u001B[39;00m trace:\n\u001B[1;32m     79\u001B[0m     (\n\u001B[1;32m     80\u001B[0m         http_version,\n\u001B[1;32m     81\u001B[0m         status,\n\u001B[1;32m     82\u001B[0m         reason_phrase,\n\u001B[1;32m     83\u001B[0m         headers,\n\u001B[0;32m---> 84\u001B[0m     ) \u001B[38;5;241m=\u001B[39m \u001B[38;5;28;01mawait\u001B[39;00m \u001B[38;5;28mself\u001B[39m\u001B[38;5;241m.\u001B[39m_receive_response_headers(\u001B[38;5;241m*\u001B[39m\u001B[38;5;241m*\u001B[39mkwargs)\n\u001B[1;32m     85\u001B[0m     trace\u001B[38;5;241m.\u001B[39mreturn_value \u001B[38;5;241m=\u001B[39m (\n\u001B[1;32m     86\u001B[0m         http_version,\n\u001B[1;32m     87\u001B[0m         status,\n\u001B[1;32m     88\u001B[0m         reason_phrase,\n\u001B[1;32m     89\u001B[0m         headers,\n\u001B[1;32m     90\u001B[0m     )\n\u001B[1;32m     92\u001B[0m \u001B[38;5;28;01mreturn\u001B[39;00m Response(\n\u001B[1;32m     93\u001B[0m     status\u001B[38;5;241m=\u001B[39mstatus,\n\u001B[1;32m     94\u001B[0m     headers\u001B[38;5;241m=\u001B[39mheaders,\n\u001B[0;32m   (...)\u001B[0m\n\u001B[1;32m    100\u001B[0m     },\n\u001B[1;32m    101\u001B[0m )\n",
      "File \u001B[0;32m~/ProgrammingTools/miniconda3/envs/deep_learning_project_v2/lib/python3.9/site-packages/httpcore/_async/http11.py:148\u001B[0m, in \u001B[0;36mAsyncHTTP11Connection._receive_response_headers\u001B[0;34m(self, request)\u001B[0m\n\u001B[1;32m    145\u001B[0m timeout \u001B[38;5;241m=\u001B[39m timeouts\u001B[38;5;241m.\u001B[39mget(\u001B[38;5;124m\"\u001B[39m\u001B[38;5;124mread\u001B[39m\u001B[38;5;124m\"\u001B[39m, \u001B[38;5;28;01mNone\u001B[39;00m)\n\u001B[1;32m    147\u001B[0m \u001B[38;5;28;01mwhile\u001B[39;00m \u001B[38;5;28;01mTrue\u001B[39;00m:\n\u001B[0;32m--> 148\u001B[0m     event \u001B[38;5;241m=\u001B[39m \u001B[38;5;28;01mawait\u001B[39;00m \u001B[38;5;28mself\u001B[39m\u001B[38;5;241m.\u001B[39m_receive_event(timeout\u001B[38;5;241m=\u001B[39mtimeout)\n\u001B[1;32m    149\u001B[0m     \u001B[38;5;28;01mif\u001B[39;00m \u001B[38;5;28misinstance\u001B[39m(event, h11\u001B[38;5;241m.\u001B[39mResponse):\n\u001B[1;32m    150\u001B[0m         \u001B[38;5;28;01mbreak\u001B[39;00m\n",
      "File \u001B[0;32m~/ProgrammingTools/miniconda3/envs/deep_learning_project_v2/lib/python3.9/site-packages/httpcore/_async/http11.py:177\u001B[0m, in \u001B[0;36mAsyncHTTP11Connection._receive_event\u001B[0;34m(self, timeout)\u001B[0m\n\u001B[1;32m    174\u001B[0m     event \u001B[38;5;241m=\u001B[39m \u001B[38;5;28mself\u001B[39m\u001B[38;5;241m.\u001B[39m_h11_state\u001B[38;5;241m.\u001B[39mnext_event()\n\u001B[1;32m    176\u001B[0m \u001B[38;5;28;01mif\u001B[39;00m event \u001B[38;5;129;01mis\u001B[39;00m h11\u001B[38;5;241m.\u001B[39mNEED_DATA:\n\u001B[0;32m--> 177\u001B[0m     data \u001B[38;5;241m=\u001B[39m \u001B[38;5;28;01mawait\u001B[39;00m \u001B[38;5;28mself\u001B[39m\u001B[38;5;241m.\u001B[39m_network_stream\u001B[38;5;241m.\u001B[39mread(\n\u001B[1;32m    178\u001B[0m         \u001B[38;5;28mself\u001B[39m\u001B[38;5;241m.\u001B[39mREAD_NUM_BYTES, timeout\u001B[38;5;241m=\u001B[39mtimeout\n\u001B[1;32m    179\u001B[0m     )\n\u001B[1;32m    181\u001B[0m     \u001B[38;5;66;03m# If we feed this case through h11 we'll raise an exception like:\u001B[39;00m\n\u001B[1;32m    182\u001B[0m     \u001B[38;5;66;03m#\u001B[39;00m\n\u001B[1;32m    183\u001B[0m     \u001B[38;5;66;03m#     httpcore.RemoteProtocolError: can't handle event type\u001B[39;00m\n\u001B[0;32m   (...)\u001B[0m\n\u001B[1;32m    187\u001B[0m     \u001B[38;5;66;03m# perspective. Instead we handle this case distinctly and treat\u001B[39;00m\n\u001B[1;32m    188\u001B[0m     \u001B[38;5;66;03m# it as a ConnectError.\u001B[39;00m\n\u001B[1;32m    189\u001B[0m     \u001B[38;5;28;01mif\u001B[39;00m data \u001B[38;5;241m==\u001B[39m \u001B[38;5;124mb\u001B[39m\u001B[38;5;124m\"\u001B[39m\u001B[38;5;124m\"\u001B[39m \u001B[38;5;129;01mand\u001B[39;00m \u001B[38;5;28mself\u001B[39m\u001B[38;5;241m.\u001B[39m_h11_state\u001B[38;5;241m.\u001B[39mtheir_state \u001B[38;5;241m==\u001B[39m h11\u001B[38;5;241m.\u001B[39mSEND_RESPONSE:\n",
      "File \u001B[0;32m~/ProgrammingTools/miniconda3/envs/deep_learning_project_v2/lib/python3.9/site-packages/httpcore/backends/asyncio.py:33\u001B[0m, in \u001B[0;36mAsyncIOStream.read\u001B[0;34m(self, max_bytes, timeout)\u001B[0m\n\u001B[1;32m     31\u001B[0m \u001B[38;5;28;01mwith\u001B[39;00m anyio\u001B[38;5;241m.\u001B[39mfail_after(timeout):\n\u001B[1;32m     32\u001B[0m     \u001B[38;5;28;01mtry\u001B[39;00m:\n\u001B[0;32m---> 33\u001B[0m         \u001B[38;5;28;01mreturn\u001B[39;00m \u001B[38;5;28;01mawait\u001B[39;00m \u001B[38;5;28mself\u001B[39m\u001B[38;5;241m.\u001B[39m_stream\u001B[38;5;241m.\u001B[39mreceive(max_bytes\u001B[38;5;241m=\u001B[39mmax_bytes)\n\u001B[1;32m     34\u001B[0m     \u001B[38;5;28;01mexcept\u001B[39;00m anyio\u001B[38;5;241m.\u001B[39mEndOfStream:  \u001B[38;5;66;03m# pragma: nocover\u001B[39;00m\n\u001B[1;32m     35\u001B[0m         \u001B[38;5;28;01mreturn\u001B[39;00m \u001B[38;5;124mb\u001B[39m\u001B[38;5;124m\"\u001B[39m\u001B[38;5;124m\"\u001B[39m\n",
      "File \u001B[0;32m~/ProgrammingTools/miniconda3/envs/deep_learning_project_v2/lib/python3.9/site-packages/anyio/streams/tls.py:196\u001B[0m, in \u001B[0;36mTLSStream.receive\u001B[0;34m(self, max_bytes)\u001B[0m\n\u001B[1;32m    195\u001B[0m \u001B[38;5;28;01masync\u001B[39;00m \u001B[38;5;28;01mdef\u001B[39;00m \u001B[38;5;21mreceive\u001B[39m(\u001B[38;5;28mself\u001B[39m, max_bytes: \u001B[38;5;28mint\u001B[39m \u001B[38;5;241m=\u001B[39m \u001B[38;5;241m65536\u001B[39m) \u001B[38;5;241m-\u001B[39m\u001B[38;5;241m>\u001B[39m \u001B[38;5;28mbytes\u001B[39m:\n\u001B[0;32m--> 196\u001B[0m     data \u001B[38;5;241m=\u001B[39m \u001B[38;5;28;01mawait\u001B[39;00m \u001B[38;5;28mself\u001B[39m\u001B[38;5;241m.\u001B[39m_call_sslobject_method(\u001B[38;5;28mself\u001B[39m\u001B[38;5;241m.\u001B[39m_ssl_object\u001B[38;5;241m.\u001B[39mread, max_bytes)\n\u001B[1;32m    197\u001B[0m     \u001B[38;5;28;01mif\u001B[39;00m \u001B[38;5;129;01mnot\u001B[39;00m data:\n\u001B[1;32m    198\u001B[0m         \u001B[38;5;28;01mraise\u001B[39;00m EndOfStream\n",
      "File \u001B[0;32m~/ProgrammingTools/miniconda3/envs/deep_learning_project_v2/lib/python3.9/site-packages/anyio/streams/tls.py:138\u001B[0m, in \u001B[0;36mTLSStream._call_sslobject_method\u001B[0;34m(self, func, *args)\u001B[0m\n\u001B[1;32m    135\u001B[0m     \u001B[38;5;28;01mif\u001B[39;00m \u001B[38;5;28mself\u001B[39m\u001B[38;5;241m.\u001B[39m_write_bio\u001B[38;5;241m.\u001B[39mpending:\n\u001B[1;32m    136\u001B[0m         \u001B[38;5;28;01mawait\u001B[39;00m \u001B[38;5;28mself\u001B[39m\u001B[38;5;241m.\u001B[39mtransport_stream\u001B[38;5;241m.\u001B[39msend(\u001B[38;5;28mself\u001B[39m\u001B[38;5;241m.\u001B[39m_write_bio\u001B[38;5;241m.\u001B[39mread())\n\u001B[0;32m--> 138\u001B[0m     data \u001B[38;5;241m=\u001B[39m \u001B[38;5;28;01mawait\u001B[39;00m \u001B[38;5;28mself\u001B[39m\u001B[38;5;241m.\u001B[39mtransport_stream\u001B[38;5;241m.\u001B[39mreceive()\n\u001B[1;32m    139\u001B[0m \u001B[38;5;28;01mexcept\u001B[39;00m EndOfStream:\n\u001B[1;32m    140\u001B[0m     \u001B[38;5;28mself\u001B[39m\u001B[38;5;241m.\u001B[39m_read_bio\u001B[38;5;241m.\u001B[39mwrite_eof()\n",
      "File \u001B[0;32m~/ProgrammingTools/miniconda3/envs/deep_learning_project_v2/lib/python3.9/site-packages/anyio/_backends/_asyncio.py:1203\u001B[0m, in \u001B[0;36mSocketStream.receive\u001B[0;34m(self, max_bytes)\u001B[0m\n\u001B[1;32m   1198\u001B[0m \u001B[38;5;28;01mif\u001B[39;00m (\n\u001B[1;32m   1199\u001B[0m     \u001B[38;5;129;01mnot\u001B[39;00m \u001B[38;5;28mself\u001B[39m\u001B[38;5;241m.\u001B[39m_protocol\u001B[38;5;241m.\u001B[39mread_event\u001B[38;5;241m.\u001B[39mis_set()\n\u001B[1;32m   1200\u001B[0m     \u001B[38;5;129;01mand\u001B[39;00m \u001B[38;5;129;01mnot\u001B[39;00m \u001B[38;5;28mself\u001B[39m\u001B[38;5;241m.\u001B[39m_transport\u001B[38;5;241m.\u001B[39mis_closing()\n\u001B[1;32m   1201\u001B[0m ):\n\u001B[1;32m   1202\u001B[0m     \u001B[38;5;28mself\u001B[39m\u001B[38;5;241m.\u001B[39m_transport\u001B[38;5;241m.\u001B[39mresume_reading()\n\u001B[0;32m-> 1203\u001B[0m     \u001B[38;5;28;01mawait\u001B[39;00m \u001B[38;5;28mself\u001B[39m\u001B[38;5;241m.\u001B[39m_protocol\u001B[38;5;241m.\u001B[39mread_event\u001B[38;5;241m.\u001B[39mwait()\n\u001B[1;32m   1204\u001B[0m     \u001B[38;5;28mself\u001B[39m\u001B[38;5;241m.\u001B[39m_transport\u001B[38;5;241m.\u001B[39mpause_reading()\n\u001B[1;32m   1206\u001B[0m \u001B[38;5;28;01mtry\u001B[39;00m:\n",
      "File \u001B[0;32m~/ProgrammingTools/miniconda3/envs/deep_learning_project_v2/lib/python3.9/asyncio/locks.py:226\u001B[0m, in \u001B[0;36mEvent.wait\u001B[0;34m(self)\u001B[0m\n\u001B[1;32m    224\u001B[0m \u001B[38;5;28mself\u001B[39m\u001B[38;5;241m.\u001B[39m_waiters\u001B[38;5;241m.\u001B[39mappend(fut)\n\u001B[1;32m    225\u001B[0m \u001B[38;5;28;01mtry\u001B[39;00m:\n\u001B[0;32m--> 226\u001B[0m     \u001B[38;5;28;01mawait\u001B[39;00m fut\n\u001B[1;32m    227\u001B[0m     \u001B[38;5;28;01mreturn\u001B[39;00m \u001B[38;5;28;01mTrue\u001B[39;00m\n\u001B[1;32m    228\u001B[0m \u001B[38;5;28;01mfinally\u001B[39;00m:\n",
      "\u001B[0;31mCancelledError\u001B[0m: "
     ]
    }
   ],
   "source": [
    "async def main():\n",
    "    test_data: dict = await get_data_to_dataframe(1, 100)\n",
    "    dump_data_to_csv(test_data, \"./../data/test/scitechdaily_test.csv\")\n",
    "    logger.info(\"Test data download completed\")\n",
    "    train_data: dict = await get_data_to_dataframe(101, 300)\n",
    "    dump_data_to_csv(train_data, \"./../data/train/scitechdaily.csv\")\n",
    "    logger.info(\"Train data download completed\")\n",
    "\n",
    "await main()\n",
    "logger.info(\"Download completed\")"
   ]
  },
  {
   "cell_type": "code",
   "source": [
    "df = pd.read_csv(\"./../data/train/scitechdaily.csv\")\n",
    "df.info()"
   ],
   "metadata": {
    "colab": {
     "base_uri": "https://localhost:8080/"
    },
    "id": "Gbs_pEb3cYkM",
    "outputId": "73b9fff0-d7ee-45eb-8979-e74cadf22ff6"
   },
   "execution_count": null,
   "outputs": []
  }
 ],
 "metadata": {
  "colab": {
   "provenance": []
  },
  "kernelspec": {
   "name": "python3",
   "language": "python",
   "display_name": "Python 3 (ipykernel)"
  },
  "language_info": {
   "name": "python"
  }
 },
 "nbformat": 4,
 "nbformat_minor": 0
}
