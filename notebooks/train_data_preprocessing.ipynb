{
 "cells": [
  {
   "cell_type": "code",
   "execution_count": 35,
   "metadata": {
    "collapsed": true,
    "ExecuteTime": {
     "end_time": "2023-10-02T15:48:55.381501Z",
     "start_time": "2023-10-02T15:48:55.373817Z"
    }
   },
   "outputs": [],
   "source": [
    "import pandas as pd\n",
    "import nltk\n",
    "\n",
    "from constants import NOTEBOOKS_TRAIN_DATA_PATH\n"
   ]
  },
  {
   "cell_type": "code",
   "execution_count": 36,
   "outputs": [
    {
     "name": "stdout",
     "output_type": "stream",
     "text": [
      "<class 'pandas.core.frame.DataFrame'>\n",
      "Index: 3600 entries, 0 to 3599\n",
      "Data columns (total 6 columns):\n",
      " #   Column                        Non-Null Count  Dtype \n",
      "---  ------                        --------------  ----- \n",
      " 0   category_tag                  3600 non-null   object\n",
      " 1   article_title                 3600 non-null   object\n",
      " 2   article_link                  3600 non-null   object\n",
      " 3   article_content               3600 non-null   object\n",
      " 4   article_content_preprocessed  3600 non-null   object\n",
      " 5   article_title_preprocessed    3600 non-null   object\n",
      "dtypes: object(6)\n",
      "memory usage: 196.9+ KB\n"
     ]
    }
   ],
   "source": [
    "df = pd.read_csv(NOTEBOOKS_TRAIN_DATA_PATH, index_col=0)\n",
    "df.info()"
   ],
   "metadata": {
    "collapsed": false,
    "ExecuteTime": {
     "end_time": "2023-10-02T15:48:55.681189Z",
     "start_time": "2023-10-02T15:48:55.375423Z"
    }
   }
  },
  {
   "cell_type": "code",
   "execution_count": 37,
   "outputs": [
    {
     "data": {
      "text/plain": "array(['Biology', 'Space', 'Health', 'Technology', 'Science', 'Earth',\n       'Physics', 'Chemistry'], dtype=object)"
     },
     "execution_count": 37,
     "metadata": {},
     "output_type": "execute_result"
    }
   ],
   "source": [
    "# Print categories\n",
    "df = df.loc[:, ~df.columns.str.contains('^Unnamed')]\n",
    "df[\"category_tag\"].unique()"
   ],
   "metadata": {
    "collapsed": false,
    "ExecuteTime": {
     "end_time": "2023-10-02T15:48:55.685806Z",
     "start_time": "2023-10-02T15:48:55.684307Z"
    }
   }
  },
  {
   "cell_type": "code",
   "execution_count": 38,
   "outputs": [
    {
     "name": "stderr",
     "output_type": "stream",
     "text": [
      "[nltk_data] Downloading package stopwords to\n",
      "[nltk_data]     /Users/alexandragridneva/nltk_data...\n",
      "[nltk_data]   Package stopwords is already up-to-date!\n"
     ]
    }
   ],
   "source": [
    "from nltk.corpus import stopwords\n",
    "\n",
    "# Text preprocessing: lowercasing, removing punctuations, removing stopwords\n",
    "\n",
    "# lowercase text\n",
    "df[\"article_content_preprocessed\"] = df[\"article_content\"].str.lower()\n",
    "df[\"article_title_preprocessed\"] = df[\"article_title\"].str.lower()\n",
    "\n",
    "# remove punctuations\n",
    "df[\"article_content_preprocessed\"] = df[\"article_content_preprocessed\"].str.replace(\"[^A-Za-z0-9]+\", \" \", regex=True)\n",
    "df[\"article_title_preprocessed\"] = df[\"article_title_preprocessed\"].str.replace(\"[^A-Za-z0-9]+\", \" \", regex=True)\n",
    "\n",
    "# remove stopwords\n",
    "nltk.download(\"stopwords\")\n",
    "\n",
    "stopwords = stopwords.words(\"english\")\n",
    "\n",
    "df[\"article_content_preprocessed\"] = df[\"article_content_preprocessed\"].apply(lambda words: \" \".join(word.lower() for word in words.split() if word not in stopwords))\n",
    "df[\"article_title_preprocessed\"] = df[\"article_title_preprocessed\"].apply(lambda words: \" \".join(word.lower() for word in words.split() if word not in stopwords))\n",
    "\n",
    "df.to_csv(NOTEBOOKS_TRAIN_DATA_PATH)"
   ],
   "metadata": {
    "collapsed": false,
    "ExecuteTime": {
     "end_time": "2023-10-02T15:48:59.050012Z",
     "start_time": "2023-10-02T15:48:55.732569Z"
    }
   }
  }
 ],
 "metadata": {
  "kernelspec": {
   "display_name": "Python 3",
   "language": "python",
   "name": "python3"
  },
  "language_info": {
   "codemirror_mode": {
    "name": "ipython",
    "version": 2
   },
   "file_extension": ".py",
   "mimetype": "text/x-python",
   "name": "python",
   "nbconvert_exporter": "python",
   "pygments_lexer": "ipython2",
   "version": "2.7.6"
  }
 },
 "nbformat": 4,
 "nbformat_minor": 0
}
