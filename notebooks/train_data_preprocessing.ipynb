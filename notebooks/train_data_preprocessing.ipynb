{
 "cells": [
  {
   "cell_type": "code",
   "execution_count": 1,
   "metadata": {
    "collapsed": true,
    "ExecuteTime": {
     "end_time": "2023-10-13T18:01:53.519705500Z",
     "start_time": "2023-10-13T18:01:52.247703700Z"
    }
   },
   "outputs": [],
   "source": [
    "import pandas as pd\n",
    "import nltk\n",
    "\n",
    "from constants import NOTEBOOKS_TRAIN_DATA_PATH\n"
   ]
  },
  {
   "cell_type": "code",
   "execution_count": 2,
   "outputs": [
    {
     "name": "stdout",
     "output_type": "stream",
     "text": [
      "<class 'pandas.core.frame.DataFrame'>\n",
      "Index: 3600 entries, 0 to 3599\n",
      "Data columns (total 20 columns):\n",
      " #   Column                        Non-Null Count  Dtype \n",
      "---  ------                        --------------  ----- \n",
      " 0   Unnamed: 0.13                 3600 non-null   int64 \n",
      " 1   Unnamed: 0.12                 3600 non-null   int64 \n",
      " 2   Unnamed: 0.11                 3600 non-null   int64 \n",
      " 3   Unnamed: 0.10                 3600 non-null   int64 \n",
      " 4   Unnamed: 0.9                  3600 non-null   int64 \n",
      " 5   Unnamed: 0.8                  3600 non-null   int64 \n",
      " 6   Unnamed: 0.7                  3600 non-null   int64 \n",
      " 7   Unnamed: 0.6                  3600 non-null   int64 \n",
      " 8   Unnamed: 0.5                  3600 non-null   int64 \n",
      " 9   Unnamed: 0.4                  3600 non-null   int64 \n",
      " 10  Unnamed: 0.3                  3600 non-null   int64 \n",
      " 11  Unnamed: 0.2                  3600 non-null   int64 \n",
      " 12  Unnamed: 0.1                  3600 non-null   int64 \n",
      " 13  Unnamed: 0                    3600 non-null   int64 \n",
      " 14  category_tag                  3600 non-null   object\n",
      " 15  article_title                 3600 non-null   object\n",
      " 16  article_link                  3600 non-null   object\n",
      " 17  article_content               3600 non-null   object\n",
      " 18  article_content_preprocessed  3600 non-null   object\n",
      " 19  article_title_preprocessed    3600 non-null   object\n",
      "dtypes: int64(14), object(6)\n",
      "memory usage: 590.6+ KB\n"
     ]
    }
   ],
   "source": [
    "df = pd.read_csv(NOTEBOOKS_TRAIN_DATA_PATH, index_col=0)\n",
    "df.info()"
   ],
   "metadata": {
    "collapsed": false,
    "ExecuteTime": {
     "end_time": "2023-10-13T18:01:53.907706400Z",
     "start_time": "2023-10-13T18:01:53.520705300Z"
    }
   }
  },
  {
   "cell_type": "code",
   "execution_count": 3,
   "outputs": [
    {
     "data": {
      "text/plain": "array(['Biology', 'Space', 'Health', 'Technology', 'Science', 'Earth',\n       'Physics', 'Chemistry'], dtype=object)"
     },
     "execution_count": 3,
     "metadata": {},
     "output_type": "execute_result"
    }
   ],
   "source": [
    "# Print categories\n",
    "df = df.loc[:, ~df.columns.str.contains('^Unnamed')]\n",
    "df[\"category_tag\"].unique()"
   ],
   "metadata": {
    "collapsed": false,
    "ExecuteTime": {
     "end_time": "2023-10-13T18:01:53.923703300Z",
     "start_time": "2023-10-13T18:01:53.906704700Z"
    }
   }
  },
  {
   "cell_type": "code",
   "execution_count": 4,
   "outputs": [
    {
     "name": "stderr",
     "output_type": "stream",
     "text": [
      "[nltk_data] Downloading package stopwords to\n",
      "[nltk_data]     C:\\Users\\aleks\\AppData\\Roaming\\nltk_data...\n",
      "[nltk_data]   Package stopwords is already up-to-date!\n"
     ]
    }
   ],
   "source": [
    "from nltk.corpus import stopwords\n",
    "\n",
    "# Text preprocessing: lowercasing, removing punctuations, removing stopwords\n",
    "\n",
    "# lowercase text\n",
    "df[\"article_content_preprocessed\"] = df[\"article_content\"].str.lower()\n",
    "df[\"article_title_preprocessed\"] = df[\"article_title\"].str.lower()\n",
    "\n",
    "# remove punctuations\n",
    "df[\"article_content_preprocessed\"] = df[\"article_content_preprocessed\"].str.replace(\"[^A-Za-z0-9]+\", \" \", regex=True)\n",
    "df[\"article_title_preprocessed\"] = df[\"article_title_preprocessed\"].str.replace(\"[^A-Za-z0-9]+\", \" \", regex=True)\n",
    "\n",
    "# remove stopwords\n",
    "nltk.download(\"stopwords\")\n",
    "\n",
    "stopwords = stopwords.words(\"english\")\n",
    "\n",
    "df[\"article_content_preprocessed\"] = df[\"article_content_preprocessed\"].apply(lambda words: \" \".join(word.lower() for word in words.split() if word not in stopwords))\n",
    "df[\"article_title_preprocessed\"] = df[\"article_title_preprocessed\"].apply(lambda words: \" \".join(word.lower() for word in words.split() if word not in stopwords))\n",
    "\n",
    "df.to_csv(NOTEBOOKS_TRAIN_DATA_PATH)"
   ],
   "metadata": {
    "collapsed": false,
    "ExecuteTime": {
     "end_time": "2023-10-13T18:02:01.031675500Z",
     "start_time": "2023-10-13T18:01:53.925704100Z"
    }
   }
  }
 ],
 "metadata": {
  "kernelspec": {
   "display_name": "Python 3",
   "language": "python",
   "name": "python3"
  },
  "language_info": {
   "codemirror_mode": {
    "name": "ipython",
    "version": 2
   },
   "file_extension": ".py",
   "mimetype": "text/x-python",
   "name": "python",
   "nbconvert_exporter": "python",
   "pygments_lexer": "ipython2",
   "version": "2.7.6"
  }
 },
 "nbformat": 4,
 "nbformat_minor": 0
}
