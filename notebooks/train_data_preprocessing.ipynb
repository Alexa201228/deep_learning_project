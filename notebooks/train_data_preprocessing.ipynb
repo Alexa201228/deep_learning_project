{
 "cells": [
  {
   "cell_type": "code",
   "execution_count": 24,
   "metadata": {
    "collapsed": true,
    "ExecuteTime": {
     "end_time": "2023-10-01T16:42:29.674266Z",
     "start_time": "2023-10-01T16:42:29.673562Z"
    }
   },
   "outputs": [],
   "source": [
    "import pandas as pd\n",
    "import nltk"
   ]
  },
  {
   "cell_type": "code",
   "execution_count": 25,
   "outputs": [
    {
     "name": "stdout",
     "output_type": "stream",
     "text": [
      "<class 'pandas.core.frame.DataFrame'>\n",
      "RangeIndex: 3591 entries, 0 to 3590\n",
      "Data columns (total 4 columns):\n",
      " #   Column           Non-Null Count  Dtype \n",
      "---  ------           --------------  ----- \n",
      " 0   category_tag     3591 non-null   object\n",
      " 1   article_title    3591 non-null   object\n",
      " 2   article_link     3591 non-null   object\n",
      " 3   article_content  3591 non-null   object\n",
      "dtypes: object(4)\n",
      "memory usage: 112.3+ KB\n"
     ]
    }
   ],
   "source": [
    "df = pd.read_csv(\"./../data/train/scitechdaily.csv\")\n",
    "df.info()"
   ],
   "metadata": {
    "collapsed": false,
    "ExecuteTime": {
     "end_time": "2023-10-01T16:42:29.859392Z",
     "start_time": "2023-10-01T16:42:29.678587Z"
    }
   }
  },
  {
   "cell_type": "code",
   "execution_count": 26,
   "outputs": [
    {
     "data": {
      "text/plain": "array(['Earth', 'Health', 'Physics', 'Biology', 'Space', 'Chemistry',\n       'Science', 'Technology'], dtype=object)"
     },
     "execution_count": 26,
     "metadata": {},
     "output_type": "execute_result"
    }
   ],
   "source": [
    "# Print categories\n",
    "df[\"category_tag\"].unique()"
   ],
   "metadata": {
    "collapsed": false,
    "ExecuteTime": {
     "end_time": "2023-10-01T16:42:29.862276Z",
     "start_time": "2023-10-01T16:42:29.860713Z"
    }
   }
  },
  {
   "cell_type": "code",
   "execution_count": 29,
   "outputs": [
    {
     "name": "stderr",
     "output_type": "stream",
     "text": [
      "[nltk_data] Downloading package stopwords to\n",
      "[nltk_data]     /Users/alexandragridneva/nltk_data...\n",
      "[nltk_data]   Package stopwords is already up-to-date!\n"
     ]
    }
   ],
   "source": [
    "from nltk.corpus import stopwords\n",
    "\n",
    "# Text preprocessing: lowercasing, removing punctuations, removing stopwords\n",
    "\n",
    "# lowercase text\n",
    "df[\"article_content_preprocessed\"] = df[\"article_content\"].str.lower()\n",
    "df[\"article_title_preprocessed\"] = df[\"article_title\"].str.lower()\n",
    "\n",
    "# remove punctuations\n",
    "df[\"article_content_preprocessed\"] = df[\"article_content_preprocessed\"].str.replace(\"[^A-Za-z0-9]+\", \" \", regex=True)\n",
    "df[\"article_title_preprocessed\"] = df[\"article_title_preprocessed\"].str.replace(\"[^A-Za-z0-9]+\", \" \", regex=True)\n",
    "\n",
    "# remove stopwords\n",
    "nltk.download(\"stopwords\")\n",
    "\n",
    "stopwords = stopwords.words(\"english\")\n",
    "\n",
    "df[\"article_content_preprocessed\"] = df[\"article_content_preprocessed\"].apply(lambda words: \" \".join(word.lower() for word in words.split() if word not in stopwords))\n",
    "df[\"article_title_preprocessed\"] = df[\"article_title_preprocessed\"].apply(lambda words: \" \".join(word.lower() for word in words.split() if word not in stopwords))\n",
    "\n",
    "df.to_csv(\"./../data/train/scitechdaily.csv\")"
   ],
   "metadata": {
    "collapsed": false,
    "ExecuteTime": {
     "end_time": "2023-10-01T16:43:51.803254Z",
     "start_time": "2023-10-01T16:43:48.996750Z"
    }
   }
  },
  {
   "cell_type": "code",
   "execution_count": 27,
   "outputs": [],
   "source": [],
   "metadata": {
    "collapsed": false,
    "ExecuteTime": {
     "end_time": "2023-10-01T16:42:32.414581Z",
     "start_time": "2023-10-01T16:42:32.413400Z"
    }
   }
  }
 ],
 "metadata": {
  "kernelspec": {
   "display_name": "Python 3",
   "language": "python",
   "name": "python3"
  },
  "language_info": {
   "codemirror_mode": {
    "name": "ipython",
    "version": 2
   },
   "file_extension": ".py",
   "mimetype": "text/x-python",
   "name": "python",
   "nbconvert_exporter": "python",
   "pygments_lexer": "ipython2",
   "version": "2.7.6"
  }
 },
 "nbformat": 4,
 "nbformat_minor": 0
}
